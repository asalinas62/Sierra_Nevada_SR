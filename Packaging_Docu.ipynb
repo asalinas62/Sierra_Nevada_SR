{
 "cells": [
  {
   "cell_type": "markdown",
   "metadata": {},
   "source": [
    "Rev. 2021/10/08"
   ]
  },
  {
   "cell_type": "markdown",
   "metadata": {
    "collapsed": true
   },
   "source": [
    "# Program `Packaging`"
   ]
  },
  {
   "cell_type": "markdown",
   "metadata": {},
   "source": [
    "Until now, the following steps have been carried out on the measurements made by the station:\n",
    "1. Load of the data in the time domain, generation of measurement intervals of 10 s and elimination of those with saturations, obtaining the spectrum in amplitude for intervals of 10 min. Three files are generated:\n",
    "    i) a file with the amplitude spectra for each 10 min interval for each month and sensor.\n",
    "    ii) a file with the saturation percentage of each 10 min interval.\n",
    "    iii) a file with information on each saturation event.\n",
    "2. Filtering of the anthropogenic noise. A file similar to i) of the previous step is generated.\n",
    "3. Lorentzian fitting of each spectrum. The following files are generated:\n",
    "    i) a file with 14 fitting parameters for each 10 min interval.\n",
    "    ii) a file with the estimated error in the Lorentzian fit of 11 parameters for each 10 min interval.\n",
    "    iii) a file with the mean square error between the fitted spectra and date spectra for each 10 min interval.\n",
    "\n",
    "In this final part of the process, a file is generated in numpy format with all the information for each month. It would be the file that could be shared between ELF stations, containing all the information necessary for the study of SRs each month and sensor."
   ]
  },
  {
   "cell_type": "markdown",
   "metadata": {},
   "source": [
    "## Readings and constant values"
   ]
  },
  {
   "cell_type": "code",
   "execution_count": 1,
   "metadata": {},
   "outputs": [],
   "source": [
    "# If you execute this code the output file\n",
    "# will be overwrited\n",
    "\n",
    "pathg=\"S_N_DF/\"         # Input path\n",
    "pathdatos='S_N_Data/'   # Input path\n",
    "pathgP=\"S_N_npz/\"  # Output path\n",
    "\n",
    "import numpy as np\n",
    "import os\n",
    "import datetime\n",
    "def pofre(f,f0,df):\n",
    "    return int(round((f-f0)/df))"
   ]
  },
  {
   "cell_type": "markdown",
   "metadata": {},
   "source": [
    "We define the input and output paths. For the latter, a directory is defined where all the files for each month and sensor and for the different years  are stored (without creating a directory for each year).\n",
    "\n",
    "In addition to the `numpy` package, the packages `os`, to access the system files, and `datetime`, to assign a temporary signal at each 10 min interval, are imported.\n",
    "\n",
    "It is also defined, as in previous steps, the `pofre` function to determine the position of a frequency in a given interval."
   ]
  },
  {
   "cell_type": "code",
   "execution_count": 2,
   "metadata": {},
   "outputs": [],
   "source": [
    "mes='1412'\n",
    "sensor=0\n",
    "divi=6\n",
    "fajus_inf=6.35  # Defines the lower limit of the fitting band\n",
    "fajus_sup=23.75 # Defines the upper limit of the adjustment band\n",
    "fcal_inf=6.\n",
    "fcal_sup= 25.\n",
    "fre1= 10.0\n",
    "fre2= 17.0\n",
    "nventa=2**13\n",
    "fm=256\n",
    "nintervdia=divi*24\n",
    "df=float(fm)/float(nventa)\n",
    "nreso=3\n",
    "npar=4*nreso+2  \n",
    "fajus_inf_pos= pofre(fajus_inf,fcal_inf,df)\n",
    "fajus_sup_pos= pofre(fajus_sup,fcal_inf,df)\n",
    "fre= np.arange(fcal_inf,fcal_sup+df,df)\n",
    "freajus=fre[fajus_inf_pos:fajus_sup_pos+1]\n",
    "nfajus=len(freajus)\n",
    "fre1p=pofre(fre1,fajus_inf,df)\n",
    "fre2p=pofre(fre2,fajus_inf,df)"
   ]
  },
  {
   "cell_type": "markdown",
   "metadata": {},
   "source": [
    "We define the constants of the process in a similar way to the previous steps, including the calibration and the fitting frequency bands. Now two new frequencies are included, `fre1` and` fre2`. They define the upper frequency limits for the first and second modes (which in turn are the lower limits for the second and third modes) that are used to find the maximum amplitude of each mode in the fitted spectrum."
   ]
  },
  {
   "cell_type": "markdown",
   "metadata": {},
   "source": [
    "## Functions `lorentF` and `maxrela`"
   ]
  },
  {
   "cell_type": "code",
   "execution_count": 3,
   "metadata": {},
   "outputs": [],
   "source": [
    "def lorentF(x,par):            \n",
    "    val=np.zeros(nreso+1,dtype=float)\n",
    "    for i in np.arange(nreso):\n",
    "        val[i]=par[i]/(((x-par[nreso+i])/par[nreso*2+i])**2+1)\n",
    "        val[nreso]=par[nreso*3]*x+par[nreso*3+1]\n",
    "    return val.sum()"
   ]
  },
  {
   "cell_type": "markdown",
   "metadata": {},
   "source": [
    "In this step of the process, the spectrum fitted by the Lorentzian function is calculated. This step would not be necessary because this adjusted spectrum can be obtained from the adjustment parameters, but in order to facilitate the subsequent process it has been included in the output file for each month. To do this, the Lorentzian function is defined from the fitting parameters and calculated for each frequency."
   ]
  },
  {
   "cell_type": "code",
   "execution_count": 4,
   "metadata": {},
   "outputs": [],
   "source": [
    "def maxrela(lista):\n",
    "    ind=0\n",
    "    x1=lista[0]\n",
    "    x2=lista[1]\n",
    "    for i in np.arange(2,len(lista)):\n",
    "        if x1<x2 and x2>lista[i]:\n",
    "            ind=i-1\n",
    "        x1=lista[i-1]\n",
    "        x2=lista[i]\n",
    "        return ind"
   ]
  },
  {
   "cell_type": "markdown",
   "metadata": {},
   "source": [
    "The function `maxrela` finds the position of a relative maximum. If there are multiple relative maxima, it would stick with the last one."
   ]
  },
  {
   "cell_type": "markdown",
   "metadata": {},
   "source": [
    "## Readings"
   ]
  },
  {
   "cell_type": "code",
   "execution_count": 16,
   "metadata": {},
   "outputs": [],
   "source": [
    "anua='20'+mes[:2]\n",
    "pathalmes=pathg+\"20\"+mes[:2]+\"/\"+mes+\"/\"\n",
    "pathmes=pathalmes+\"SR\"+mes    \n",
    "sensor=0   # There is a loop in the package\n",
    "#for sensor in [0,1]:            \n",
    "path_sat=pathmes+'_satper_'+str(sensor)\n",
    "path_rs=pathmes+'_mediaNA_'+str(sensor)\n",
    "path_parLO=pathmes+'_mediaLO_'+str(sensor)\n",
    "path_parLOC=pathmes+'_mediaLOC_'+str(sensor)\n",
    "path_parLOE=pathmes+'_mediaLOE_'+str(sensor)                \n",
    "sat=np.genfromtxt(path_sat)\n",
    "nintervmes=len(sat)\n",
    "rs=np.genfromtxt(path_rs).reshape(nintervmes,-1)\n",
    "rs_ajus=rs[:,fajus_inf_pos:fajus_sup_pos+1]\n",
    "parLO=np.genfromtxt(path_parLO).reshape(nintervmes,-1)\n",
    "parLOC=np.genfromtxt(path_parLOC)\n",
    "parLOE=np.genfromtxt(path_parLOE).reshape(nintervmes,-1)\n"
   ]
  },
  {
   "cell_type": "markdown",
   "metadata": {},
   "source": [
    "The paths for reading are defined. The following readings are done: \n",
    "* Percentage of saturation of each 10 min interval: `sat`. It is used to know the number of intervals of the month.\n",
    "* Spectrum of each 10 min interval, `rs`.\n",
    "* 14 parameters of the Lorentzian fitting for each interval of 10 min, `parLO`.\n",
    "* Value of the chi-square function in the fitting of each 10 min interval, `parLOC`.\n",
    "* Value of the error in the fitting of each parameter for each 10 min interval, `parLOE`."
   ]
  },
  {
   "cell_type": "markdown",
   "metadata": {},
   "source": [
    "## Fitted spectrum"
   ]
  },
  {
   "cell_type": "code",
   "execution_count": 17,
   "metadata": {},
   "outputs": [],
   "source": [
    "rs_LO=np.zeros((nintervmes,nfajus),dtype=float)\n",
    "for j in np.arange(nintervmes):\n",
    "    for i in np.arange(nfajus):\n",
    "        rs_LO[j,i]=lorentF(freajus[i],parLO[j,3:])  "
   ]
  },
  {
   "cell_type": "markdown",
   "metadata": {},
   "source": [
    "The fitted spectrum is calculated with Lorentzian functions."
   ]
  },
  {
   "cell_type": "code",
   "execution_count": 18,
   "metadata": {},
   "outputs": [],
   "source": [
    "import matplotlib.pyplot as plt"
   ]
  },
  {
   "cell_type": "code",
   "execution_count": 20,
   "metadata": {},
   "outputs": [
    {
     "data": {
      "image/png": "[encoded data removed]",
      "text/plain": [
       "<Figure size 432x288 with 1 Axes>"
      ]
     },
     "metadata": {
      "needs_background": "light"
     },
     "output_type": "display_data"
    }
   ],
   "source": [
    "plt.plot(fre,rs[2000,:],c='r',label='Data')\n",
    "plt.plot(freajus,rs_LO[2000,:],c='b',label='Fitted')\n",
    "plt.grid()\n",
    "plt.xlabel('Frequency (Hz)')\n",
    "plt.ylabel(r'Amplitude (pT/$\\sqrt{Hz}$)')\n",
    "plt.legend(loc=1)\n",
    "#plt.savefig('Fig_ajuste.eps')\n",
    "plt.show()"
   ]
  },
  {
   "cell_type": "markdown",
   "metadata": {},
   "source": [
    "## Global maximum amplitude and frequency"
   ]
  },
  {
   "cell_type": "code",
   "execution_count": 21,
   "metadata": {},
   "outputs": [],
   "source": [
    "pr=np.zeros((nintervmes,nreso*2),dtype=float)\n",
    "for j in np.arange(nintervmes):\n",
    "    bm1= rs_LO[j,0:fre1p]\n",
    "    pm1= np.argmax(bm1)\n",
    "    if pm1 == 0 or pm1 == len(bm1)-1 :\n",
    "        pm1=maxrela(bm1)\n",
    "    bm2= rs_LO[j,fre1p:fre2p]\n",
    "    pm2=np.argmax(bm2)\n",
    "    if pm2 == 0 or pm2 == len(bm2)-1 :\n",
    "        pm2=maxrela(bm2)\n",
    "    pm2=pm2+fre1p\n",
    "    bm3= rs_LO[j,fre2p:]\n",
    "    pm3= np.argmax(bm3)\n",
    "    if pm3 == 0 or pm3 == len(bm3)-1 :\n",
    "        pm3=maxrela(bm3)\n",
    "    pm3=pm3+fre2p\n",
    "    pr[j]=np.array([rs_LO[j,pm1],(freajus[pm1]+freajus[pm1-1])/2+\\\n",
    "                df*(rs_LO[j,pm1]-rs_LO[j,pm1-1])/\\\n",
    "                (2*rs_LO[j,pm1]-rs_LO[j,pm1-1]-rs_LO[j,pm1+1]),\\\n",
    "                rs_LO[j,pm2],(freajus[pm2]+freajus[pm2-1])/2+\\\n",
    "                df*(rs_LO[j,pm2]-rs_LO[j,pm2-1])/\\\n",
    "                (2*rs_LO[j,pm2]-rs_LO[j,pm2-1]-rs_LO[j,pm2+1]),\\\n",
    "                rs_LO[j,pm3],(freajus[pm3]+freajus[pm3-1])/2+\\\n",
    "                df*(rs_LO[j,pm3]-rs_LO[j,pm3-1])/\\\n",
    "                (2*rs_LO[j,pm3]-rs_LO[j,pm3-1]-rs_LO[j,pm3+1])])"
   ]
  },
  {
   "cell_type": "markdown",
   "metadata": {},
   "source": [
    "This part of the code calculates the local maximum amplitudes and frequencies for each mode. It has been included in this part in order to make it optional with respect to the Lorentzian adjustment made in the previous step."
   ]
  },
  {
   "cell_type": "markdown",
   "metadata": {},
   "source": [
    "The usual way to find a maximum is through the function `np.argmax(list)` (which returns the position of the maximum in `list`), which acts on each mode frequency band. But it can happen that the absolute maximum is at the ends of the band and that there is a relative maximum within it, perhaps because the spectrum has tilted so much. To find a possible relative maximum, the function `maxrela(list)` is used. If there are multiple relative maxima, it would stick with the last one."
   ]
  },
  {
   "cell_type": "markdown",
   "metadata": {},
   "source": [
    "The peak and frequency values are stored for each 10 min interval of the month in the array `pr`."
   ]
  },
  {
   "cell_type": "markdown",
   "metadata": {},
   "source": [
    "## 10 min interval temporal identification "
   ]
  },
  {
   "cell_type": "code",
   "execution_count": 22,
   "metadata": {},
   "outputs": [],
   "source": [
    "dt=3.906E+3 # microseconds\n",
    "pathmesdatos=pathdatos+\"20\"+mes[:2]+'/'+mes+'/'\n",
    "fichmesL=sorted(os.listdir(pathmesdatos))\n",
    "fichmes=fichmesL.copy()\n",
    "for i in fichmesL:\n",
    "    if i[0]!= 's': \n",
    "        fichmes.remove(i)\n",
    "nfich=len(fichmes)\n",
    "nfich2=(nfich)//2\n",
    "if fichmes[0][0] != 's':\n",
    "    print('Warning, check the data files')\n",
    "fichs0dat=fichmes[0:nfich2:2]\n",
    "fichs0txt=fichmes[1:nfich2:2]\n",
    "fichs1dat=fichmes[nfich2::2]\n",
    "fichs1txt=fichmes[nfich2+1::2]\n",
    "if sensor == 0:\n",
    "    ft=fichs0txt\n",
    "elif sensor ==1:\n",
    "    ft=fichs1txt\n",
    "else:\n",
    "    print('Warning, check the sensor identification')\n",
    "tiempo=[]\n",
    "for fich in ft:\n",
    "    f=open(pathmesdatos+fich)\n",
    "    da_ho=f.readlines()[4][22:45]\n",
    "    day=int(da_ho[0:2])\n",
    "    month=int(da_ho[3:5])\n",
    "    year=int(da_ho[6:10])\n",
    "    hour=int(da_ho[11:13])\n",
    "    minute=int(da_ho[14:16])\n",
    "    second=int(da_ho[17:19])\n",
    "    micro=int(da_ho[20:23]+'000')\n",
    "    tiho=datetime.datetime(year,month,day,hour,minute,second,micro)\n",
    "    for i in range(divi):\n",
    "        intedi=(3600/divi*fm)*dt*i\n",
    "        timu=tiho+datetime.timedelta(microseconds=intedi)\n",
    "        tiempo.append(str(timu))\n",
    "if(len(tiempo) != nintervmes):\n",
    "    print('Warning, check the files of the month')\n",
    "tiempo=np.array(tiempo, dtype=str)    "
   ]
  },
  {
   "cell_type": "markdown",
   "metadata": {},
   "source": [
    "The start time of each 10 min interval has also been added to the output. The one hour station data files (in alphabetical order) for the month are assumed to be in groups of four: two of them contain the recordings and the other two contain information for each sensor. Once the sensor has been chosen, the list with the names of the information files is selected. Each file is opened and all lines are read. We select the fifth line and in that line the characters 22 to 44, which contain the date and time. Day, month, year, hour, minute, second and microsecond are defined. With this data, the function `datetime.datetime` is called. Each hour of measurement of the station has been divided into intervals, so that the beginning of each 10 min interval will have to be calculated, adding the duration from the begining time of the corresponding hour. The method `datetime.timedelta` is required to take into account the temporal divisions, since we have hours of measurements that fall in two UTM hours. Finally, the time is saved in the list, which is converted to numpy array so that it can be written with the function `np.savez` in the next step."
   ]
  },
  {
   "cell_type": "markdown",
   "metadata": {},
   "source": [
    "## Outputs"
   ]
  },
  {
   "cell_type": "code",
   "execution_count": 17,
   "metadata": {},
   "outputs": [],
   "source": [
    "pa= 'SN_'+mes+'_'+str(sensor)\n",
    "sal= (sat,fre,freajus,rs,rs_LO,parLO,parLOC,parLOE,pr,tiempo)\n",
    "np.savez(pathgP+pa,*sal)"
   ]
  },
  {
   "cell_type": "markdown",
   "metadata": {},
   "source": [
    "The output is made in a file with npz format that uses the NPY format for writing/reading data.\n",
    "\n",
    "The list of saved arrays is:\n",
    "- sat: saturation percentage of each 10 min interval of the month\n",
    "- fre: list of frequencies in the calibrated band\n",
    "- freajus: list of frequencies in the fitted band\n",
    "- rs: spectrum obtained from the measurements\n",
    "- rs_LO: spectrum obtained from the Lorentzian fitting\n",
    "- ParLO: parameters obtained from the fitting (global mode amplitudes, individual mode amplitudes, amplitudes, resonant frequencies, widths, slope and intercept of the stright line)\n",
    "- parLOC: chi-square function for each 10 min interval\n",
    "- parLOE: error in the fitting parameters for each 10 min interval\n",
    "- pr: local maximum amplitudes and frequencies (amplitude1, frequency1, amplitude2, frequency2, ...) for each mode and for each 10 min interval \n",
    "- time: date and time of the beginning of each 10 min interval."
   ]
  }
 ],
 "metadata": {
  "kernelspec": {
   "display_name": "Python 3",
   "language": "python",
   "name": "python3"
  },
  "language_info": {
   "codemirror_mode": {
    "name": "ipython",
    "version": 3
   },
   "file_extension": ".py",
   "mimetype": "text/x-python",
   "name": "python",
   "nbconvert_exporter": "python",
   "pygments_lexer": "ipython3",
   "version": "3.8.5"
  }
 },
 "nbformat": 4,
 "nbformat_minor": 2
}
