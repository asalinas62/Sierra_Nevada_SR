{
 "cells": [
  {
   "cell_type": "markdown",
   "metadata": {},
   "source": [
    "Rev. 2022/04/04"
   ]
  },
  {
   "cell_type": "markdown",
   "metadata": {},
   "source": [
    "Note: Pseudo code is shown in **bold** in the cell before each piece of code."
   ]
  },
  {
   "cell_type": "markdown",
   "metadata": {
    "collapsed": true
   },
   "source": [
    "# Program `Packaging`"
   ]
  },
  {
   "cell_type": "markdown",
   "metadata": {},
   "source": [
    "Until now, the following steps have been carried out on the measurements made by the station:\n",
    "1. Loading of the data in the time domain, splitting of the measurements into 10 s intervals and elimination of those with saturations, obtaining the amplitude spectrum for 10-min intervals. Two files are generated:\n",
    "    i) a file with the amplitude spectra for each 10-min interval for each month and sensor.\n",
    "    ii) a file with the saturation percentage of each 10-min interval.\n",
    "2. Filtering of the anthropogenic noise. A file similar to i) of the previous step is generated.\n",
    "3. Lorentzian fitting of each spectrum. The following files are generated:\n",
    "    i) a file with 14 fitting parameters for each 10-min interval.\n",
    "    ii) a file with the estimated error in the Lorentzian fit for each one of the 11 fitting parameters.\n",
    "    iii) a file with the mean square error between the fitting function and the spectrum for each 10-min interval.\n",
    "\n",
    "In this final part of the process, a file is generated in numpy format with the most relevant information for each month. It would be the file that could be shared between ELF stations, containing all the information necessary for the study of the SRs for each month and sensor."
   ]
  },
  {
   "cell_type": "markdown",
   "metadata": {},
   "source": [
    "## Readings and constant values"
   ]
  },
  {
   "cell_type": "markdown",
   "metadata": {},
   "source": [
    "**Python packages used in the program**"
   ]
  },
  {
   "cell_type": "code",
   "execution_count": 1,
   "metadata": {},
   "outputs": [],
   "source": [
    "import numpy as np\n",
    "import os\n",
    "import datetime"
   ]
  },
  {
   "cell_type": "markdown",
   "metadata": {},
   "source": [
    "In addition to the `numpy` package, the packages `os`, to access the system files, and `datetime`, to assign a temporary signal at each 10 min interval, are imported."
   ]
  },
  {
   "cell_type": "markdown",
   "metadata": {},
   "source": [
    "**Input and output paths**"
   ]
  },
  {
   "cell_type": "code",
   "execution_count": 2,
   "metadata": {},
   "outputs": [],
   "source": [
    "pathg=\"S_N_FD/\"         # Input path\n",
    "pathdatos='S_N_Data/'   # Input path\n",
    "pathgP=\"S_N_npz/\"  # Output path"
   ]
  },
  {
   "cell_type": "markdown",
   "metadata": {},
   "source": [
    "We define the input and output paths. For the latter, a directory is defined where all the files for each month and sensor and for the different years  are stored (without creating a directory for each year)."
   ]
  },
  {
   "cell_type": "markdown",
   "metadata": {},
   "source": [
    "**ELF station features and other parameters**"
   ]
  },
  {
   "cell_type": "code",
   "execution_count": 3,
   "metadata": {},
   "outputs": [],
   "source": [
    "months='1503'    # Year and month\n",
    "divi=6          # 10 min interval\n",
    "fm=256          # Sampling frequency\n",
    "nventa=2**13    # FFT window\n",
    "fcal_inf=6.     # Lower limit of the calibrated freq. band\n",
    "fcal_sup= 25.   # Upper limit of the calibrated freq. band\n",
    "fajus_inf=6.35  # Lower limit of the fitting freq. band\n",
    "fajus_sup=23.75 # Upper limit of the fitting freq. band\n",
    "nreso=3         # Number of modes\n",
    "df=float(fm)/float(nventa)    # Frecuency increment\n",
    "fre1= 10.0      \n",
    "fre2= 17.0"
   ]
  },
  {
   "cell_type": "markdown",
   "metadata": {},
   "source": [
    "We define the numerical constants that we need to use in the scheme in a similar way to the previous steps, including the calibration and the fitting frequency bands. Now two new frequencies are included, `fre1` and` fre2`. They define the upper frequency limits for the first and second modes (which in turn are the lower limits for the second and third modes) that are used to find the maximum amplitude of each mode in the fitted spectrum."
   ]
  },
  {
   "cell_type": "markdown",
   "metadata": {},
   "source": [
    "**We define the sensor to be able to execute the code in the notebook. In the script a loop for the two sensors is executed.**"
   ]
  },
  {
   "cell_type": "code",
   "execution_count": 4,
   "metadata": {},
   "outputs": [],
   "source": [
    "sensor=0  # There is a loop in the package"
   ]
  },
  {
   "cell_type": "markdown",
   "metadata": {},
   "source": [
    "**The positions of the upper and lower fitting band frequencies in the list of frequencies are determined.**"
   ]
  },
  {
   "cell_type": "code",
   "execution_count": 5,
   "metadata": {},
   "outputs": [],
   "source": [
    "def pofre(f,f0,df):\n",
    "    return int(round((f-f0)/df))\n",
    "fajus_inf_pos= pofre(fajus_inf,fcal_inf,df)\n",
    "fajus_sup_pos= pofre(fajus_sup,fcal_inf,df)\n",
    "fre= np.arange(fcal_inf,fcal_sup+df,df)\n",
    "freajus=fre[fajus_inf_pos:fajus_sup_pos+1]\n",
    "nfajus=len(freajus)\n",
    "fre1p=pofre(fre1,fajus_inf,df)\n",
    "fre2p=pofre(fre2,fajus_inf,df)"
   ]
  },
  {
   "cell_type": "markdown",
   "metadata": {},
   "source": [
    "The function `pofre` is also defined, as in previous programs, to determine the position of a frequency in a given list."
   ]
  },
  {
   "cell_type": "markdown",
   "metadata": {},
   "source": [
    "## Functions `lorentzF` and `maxrela`"
   ]
  },
  {
   "cell_type": "markdown",
   "metadata": {},
   "source": [
    "**The function `lorentzF` defines the value of a Lorentzian function with three resonances and one straight line, with parameters defined in the array `par` for each frecuency $f=x$.**"
   ]
  },
  {
   "cell_type": "code",
   "execution_count": 6,
   "metadata": {},
   "outputs": [],
   "source": [
    "def lorentzF(x,par):            \n",
    "    val=np.zeros(nreso+1,dtype=float)\n",
    "    for i in np.arange(nreso):\n",
    "        val[i]=par[i]/(((x-par[nreso+i])/par[nreso*2+i])**2+1)\n",
    "        val[nreso]=par[nreso*3]*x+par[nreso*3+1]\n",
    "    return val.sum()"
   ]
  },
  {
   "cell_type": "markdown",
   "metadata": {},
   "source": [
    "In this step of the process, the spectrum fitted by the Lorentzian function is calculated. This step would not be necessary because this fitted spectrum can be obtained from the fitted parameters, but it has been included in the output file for each month in order to facilitate the subsequent process. To do this, the sum of three Lorentzian functions and a linear term is defined from the fitting parameters and calculated for each frequency."
   ]
  },
  {
   "cell_type": "markdown",
   "metadata": {},
   "source": [
    "**The function `maxrela` evaluates the relative maximum of a list of values `lista`.**"
   ]
  },
  {
   "cell_type": "code",
   "execution_count": 7,
   "metadata": {},
   "outputs": [],
   "source": [
    "def maxrela(lista):\n",
    "    ind=0\n",
    "    x1=lista[0]\n",
    "    x2=lista[1]\n",
    "    for i in np.arange(2,len(lista)):\n",
    "        if x1<x2 and x2>lista[i]:\n",
    "            ind=i-1\n",
    "        x1=lista[i-1]\n",
    "        x2=lista[i]\n",
    "        return ind"
   ]
  },
  {
   "cell_type": "markdown",
   "metadata": {},
   "source": [
    "The function `maxrela` finds the position of a relative maximum. If there are multiple relative maxima, it will return the last one."
   ]
  },
  {
   "cell_type": "markdown",
   "metadata": {},
   "source": [
    "## Loadings"
   ]
  },
  {
   "cell_type": "markdown",
   "metadata": {},
   "source": [
    "**Loading of the outputs of the Lorentzian fit and the saturation percentages file**"
   ]
  },
  {
   "cell_type": "code",
   "execution_count": 8,
   "metadata": {},
   "outputs": [],
   "source": [
    "anua='20'+months[:2]\n",
    "pathalmes=pathg+\"20\"+months[:2]+\"/\"+months+\"/\"\n",
    "pathmes=pathalmes+\"SR\"+months               \n",
    "path_sat=pathmes+'_satper_'+str(sensor)\n",
    "path_rs=pathmes+'_mediaNA_'+str(sensor)\n",
    "path_parLO=pathmes+'_mediaLO_'+str(sensor)\n",
    "path_parLOC=pathmes+'_mediaLOC_'+str(sensor)\n",
    "path_parLOE=pathmes+'_mediaLOE_'+str(sensor)                \n",
    "sat=np.genfromtxt(path_sat)\n",
    "nintervmes=len(sat)\n",
    "rs=np.genfromtxt(path_rs).reshape(nintervmes,-1)\n",
    "rs_ajus=rs[:,fajus_inf_pos:fajus_sup_pos+1]\n",
    "parLO=np.genfromtxt(path_parLO).reshape(nintervmes,-1)\n",
    "parLOC=np.genfromtxt(path_parLOC)\n",
    "parLOE=np.genfromtxt(path_parLOE).reshape(nintervmes,-1)"
   ]
  },
  {
   "cell_type": "markdown",
   "metadata": {},
   "source": [
    "The file paths are defined. The following loadings are performed: \n",
    "* Percentage of saturation of each 10-min interval: `sat`.\n",
    "* Spectrum of each 10-min interval, `rs`.\n",
    "* The 14 parameters of the Lorentzian fitting for each interval of 10-min, `parLO`.\n",
    "* Value of the chi-square function in the fitting of each 10-min interval, `parLOC`.\n",
    "* Value of the error in the fitting of each parameter for each 10-min interval, `parLOE`."
   ]
  },
  {
   "cell_type": "markdown",
   "metadata": {},
   "source": [
    "## Fitted spectrum"
   ]
  },
  {
   "cell_type": "markdown",
   "metadata": {},
   "source": [
    "**The fitted 10-min spectrum is determined for each frecuency in the fitting frequency band calling to the function `LorentzF`.**"
   ]
  },
  {
   "cell_type": "code",
   "execution_count": 9,
   "metadata": {},
   "outputs": [],
   "source": [
    "rs_LO=np.zeros((nintervmes,nfajus),dtype=float)\n",
    "for j in np.arange(nintervmes):\n",
    "    for i in np.arange(nfajus):\n",
    "        rs_LO[j,i]=lorentzF(freajus[i],parLO[j,3:])  "
   ]
  },
  {
   "cell_type": "markdown",
   "metadata": {},
   "source": [
    "The fitted spectrum is calculated with Lorentzian functions."
   ]
  },
  {
   "cell_type": "markdown",
   "metadata": {},
   "source": [
    "**We can make a visual inspection of the fitting proccess**"
   ]
  },
  {
   "cell_type": "code",
   "execution_count": 10,
   "metadata": {},
   "outputs": [],
   "source": [
    "from ipywidgets import interact\n",
    "import matplotlib.pyplot as plt"
   ]
  },
  {
   "cell_type": "code",
   "execution_count": 11,
   "metadata": {},
   "outputs": [],
   "source": [
    "def spectra(indi):\n",
    "    plt.plot(fre,rs[indi,:],c='r',label='Data')\n",
    "    plt.plot(freajus,rs_LO[indi,:],c='b',label='Fitted')\n",
    "    plt.grid()\n",
    "    plt.xlabel('Frequency (Hz)')\n",
    "    plt.ylabel(r'Amplitude (pT/$\\sqrt{Hz}$)')\n",
    "    plt.ylim(0.1,0.45)\n",
    "    plt.legend(loc=1)\n",
    "#plt.savefig('Fig_ajuste.eps')\n",
    "    plt.show()"
   ]
  },
  {
   "cell_type": "code",
   "execution_count": 12,
   "metadata": {},
   "outputs": [
    {
     "data": {
      "application/vnd.jupyter.widget-view+json": {
       "model_id": "2a8ab1b090ef41ad93ce477c84e7f541",
       "version_major": 2,
       "version_minor": 0
      },
      "text/plain": [
       "interactive(children=(IntSlider(value=71, description='indi', max=143), Output()), _dom_classes=('widget-inter…"
      ]
     },
     "metadata": {},
     "output_type": "display_data"
    },
    {
     "data": {
      "text/plain": [
       "<function __main__.spectra(indi)>"
      ]
     },
     "execution_count": 12,
     "metadata": {},
     "output_type": "execute_result"
    }
   ],
   "source": [
    "interact(spectra,indi=(0,nintervmes-1))"
   ]
  },
  {
   "cell_type": "markdown",
   "metadata": {},
   "source": [
    "## Local maximum amplitudes and frequencies"
   ]
  },
  {
   "cell_type": "markdown",
   "metadata": {},
   "source": [
    "**The local maximum amplitudes and frequencies are calculated**"
   ]
  },
  {
   "cell_type": "code",
   "execution_count": 13,
   "metadata": {},
   "outputs": [],
   "source": [
    "pr=np.zeros((nintervmes,nreso*2),dtype=float)\n",
    "for j in np.arange(nintervmes):\n",
    "    bm1= rs_LO[j,0:fre1p]\n",
    "    pm1= np.argmax(bm1)\n",
    "    if pm1 == 0 or pm1 == len(bm1)-1 :\n",
    "        pm1=maxrela(bm1)\n",
    "    bm2= rs_LO[j,fre1p:fre2p]\n",
    "    pm2=np.argmax(bm2)\n",
    "    if pm2 == 0 or pm2 == len(bm2)-1 :\n",
    "        pm2=maxrela(bm2)\n",
    "    pm2=pm2+fre1p\n",
    "    bm3= rs_LO[j,fre2p:]\n",
    "    pm3= np.argmax(bm3)\n",
    "    if pm3 == 0 or pm3 == len(bm3)-1 :\n",
    "        pm3=maxrela(bm3)\n",
    "    pm3=pm3+fre2p\n",
    "    pr[j]=np.array([rs_LO[j,pm1],(freajus[pm1]+freajus[pm1-1])/2+\\\n",
    "                df*(rs_LO[j,pm1]-rs_LO[j,pm1-1])/\\\n",
    "                (2*rs_LO[j,pm1]-rs_LO[j,pm1-1]-rs_LO[j,pm1+1]),\\\n",
    "                rs_LO[j,pm2],(freajus[pm2]+freajus[pm2-1])/2+\\\n",
    "                df*(rs_LO[j,pm2]-rs_LO[j,pm2-1])/\\\n",
    "                (2*rs_LO[j,pm2]-rs_LO[j,pm2-1]-rs_LO[j,pm2+1]),\\\n",
    "                rs_LO[j,pm3],(freajus[pm3]+freajus[pm3-1])/2+\\\n",
    "                df*(rs_LO[j,pm3]-rs_LO[j,pm3-1])/\\\n",
    "                (2*rs_LO[j,pm3]-rs_LO[j,pm3-1]-rs_LO[j,pm3+1])])"
   ]
  },
  {
   "cell_type": "markdown",
   "metadata": {},
   "source": [
    "This part of the code calculates the local maximum amplitudes and frequencies for each mode. It has been included in this part in order to make it optional with respect to the Lorentzian fitting performed in the previous step."
   ]
  },
  {
   "cell_type": "markdown",
   "metadata": {},
   "source": [
    "The usual way to find a maximum is through the function `np.argmax(list)` (which returns the position of the maximum in `list`). But it can happen that the absolute maximum is at the beginnig or at the end of the band and that there is a relative maximum within it, perhaps because the spectrum has tilted so much. To find a possible relative maximum, the function `maxrela(list)` is used."
   ]
  },
  {
   "cell_type": "markdown",
   "metadata": {},
   "source": [
    "The peak (interpolated value) and frequency values are stored for each 10-min interval of the month in the array `pr`."
   ]
  },
  {
   "cell_type": "markdown",
   "metadata": {},
   "source": [
    "## 10-min interval temporal placing "
   ]
  },
  {
   "cell_type": "markdown",
   "metadata": {},
   "source": [
    "**The start time of each 10 min intervals that make up the analyzed month is load.**"
   ]
  },
  {
   "cell_type": "code",
   "execution_count": 14,
   "metadata": {},
   "outputs": [],
   "source": [
    "dt=3.906E+3 # microseconds\n",
    "pathmesdatos=pathdatos+\"20\"+months[:2]+'/'+months+'/'\n",
    "fichmesL=sorted(os.listdir(pathmesdatos))\n",
    "fichmes=fichmesL.copy()\n",
    "for i in fichmesL:\n",
    "    if i[0]!= 's': \n",
    "        fichmes.remove(i)\n",
    "nfich=len(fichmes)\n",
    "nfich2=(nfich)//2\n",
    "if fichmes[0][0] != 's':\n",
    "    print('Warning, check the data files')\n",
    "fichs0dat=fichmes[0:nfich2:2]\n",
    "fichs0txt=fichmes[1:nfich2:2]\n",
    "fichs1dat=fichmes[nfich2::2]\n",
    "fichs1txt=fichmes[nfich2+1::2]\n",
    "if sensor == 0:\n",
    "    ft=fichs0txt\n",
    "elif sensor ==1:\n",
    "    ft=fichs1txt\n",
    "else:\n",
    "    print('Warning, check the sensor identification')\n",
    "tiempo=[]\n",
    "for fich in ft:\n",
    "    f=open(pathmesdatos+fich)\n",
    "    da_ho=f.readlines()[4][22:45]\n",
    "    day=int(da_ho[0:2])\n",
    "    month=int(da_ho[3:5])\n",
    "    year=int(da_ho[6:10])\n",
    "    hour=int(da_ho[11:13])\n",
    "    minute=int(da_ho[14:16])\n",
    "    second=int(da_ho[17:19])\n",
    "    micro=int(da_ho[20:23]+'000')\n",
    "    tiho=datetime.datetime(year,month,day,hour,minute,second,micro)\n",
    "    for i in range(divi):\n",
    "        intedi=(3600/divi*fm)*dt*i\n",
    "        timu=tiho+datetime.timedelta(microseconds=intedi)\n",
    "        tiempo.append(str(timu))\n",
    "if(len(tiempo) != nintervmes):\n",
    "    print('Warning, check the files of the month')\n",
    "tiempo=np.array(tiempo, dtype=str)    "
   ]
  },
  {
   "cell_type": "markdown",
   "metadata": {},
   "source": [
    "The start time of each 10-min interval has also been added to the output. The one hour station data files (in alphabetical order) for the month are assumed to be in groups of four: two of them contain the recordings and the other two contain information for each sensor. Once the sensor has been chosen, the list with the names of the information files is selected. Each file is opened and all lines are read. We select the fifth line and in that line the characters 22 to 44, which contain the date and time. Day, month, year, hour, minute, second and microsecond are defined. With this data, the function `datetime.datetime` is called. Each hour of measurement of the station has been divided into intervals, so that the beginning of each 10-min interval will have to be calculated, adding the duration from the begining time of the corresponding hour. The method `datetime.timedelta` is required to take into account the temporal divisions, since we have hours of measurements that fall in two UTM hours. Finally, the time is saved in the list, which is converted to numpy array so that it can be written with the function `np.savez` in the next step."
   ]
  },
  {
   "cell_type": "markdown",
   "metadata": {},
   "source": [
    "## Outputs"
   ]
  },
  {
   "cell_type": "markdown",
   "metadata": {},
   "source": [
    "**Writing the final output of the program in npz format**"
   ]
  },
  {
   "cell_type": "code",
   "execution_count": 15,
   "metadata": {
    "scrolled": true
   },
   "outputs": [],
   "source": [
    "pa= 'SN_'+months+'_'+str(sensor)\n",
    "sal= (sat,fre,freajus,rs,rs_LO,parLO,parLOC,parLOE,pr,tiempo)\n",
    "np.savez(pathgP+pa,*sal)"
   ]
  },
  {
   "cell_type": "markdown",
   "metadata": {},
   "source": [
    "The output is saved to a file with npz format that uses the npy format for writing/reading data.\n",
    "\n",
    "The list of saved arrays is:\n",
    "- sat: saturation percentage of each 10-min interval of the month\n",
    "- fre: list of frequencies in the calibrated band\n",
    "- freajus: list of frequencies in the fitted band\n",
    "- rs: spectrum obtained from the measurements\n",
    "- rs_LO: spectrum obtained from the Lorentzian fitting\n",
    "- ParLO: parameters obtained from the fitting (global mode amplitudes, individual mode amplitudes, amplitudes, resonant frequencies, widths, slope and intercept of the stright line)\n",
    "- parLOC: chi-square function for each 10-min interval\n",
    "- parLOE: error in the fitting parameters for each 10-min interval\n",
    "- pr: local maximum amplitudes and frequencies (amplitude1, frequency1, amplitude2, frequency2, ...) for each mode and for each 10-min interval \n",
    "- time: date and time of the beginning of each 10-min interval."
   ]
  },
  {
   "cell_type": "code",
   "execution_count": null,
   "metadata": {},
   "outputs": [],
   "source": []
  }
 ],
 "metadata": {
  "kernelspec": {
   "display_name": "Python 3",
   "language": "python",
   "name": "python3"
  },
  "language_info": {
   "codemirror_mode": {
    "name": "ipython",
    "version": 3
   },
   "file_extension": ".py",
   "mimetype": "text/x-python",
   "name": "python",
   "nbconvert_exporter": "python",
   "pygments_lexer": "ipython3",
   "version": "3.8.5"
  }
 },
 "nbformat": 4,
 "nbformat_minor": 2
}
