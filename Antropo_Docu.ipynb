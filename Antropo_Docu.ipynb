{
 "cells": [
  {
   "cell_type": "markdown",
   "metadata": {},
   "source": [
    "V:2022/04/04"
   ]
  },
  {
   "cell_type": "markdown",
   "metadata": {},
   "source": [
    "Note: Pseudo code is shown in **bold** in the cell before each piece of code."
   ]
  },
  {
   "cell_type": "markdown",
   "metadata": {},
   "source": [
    "# Elimination of the anthropogenic noise: `antropo`"
   ]
  },
  {
   "cell_type": "markdown",
   "metadata": {},
   "source": [
    "The code shown is this notebook is aimed at the removal of the anthropogenic signals detected in the measurements recorded at the station. The anthropogenic noise appears as narrow peaks in the signal spectrum. These signals appear mainly in three bands: {14.44,15.00}, {15.00,15.35}, {16.50,16.90} Hz.\n",
    "Due to the proximity of the first two bands, they have been merged into one only band, so the bands {14.55,15.35} Hz and {16.50,16.90} Hz have been considered in this program.\n",
    "\n",
    "A visual inspection of the 10-min spectra (filtered and unfiltered) can be done with this Jupyter notebook."
   ]
  },
  {
   "cell_type": "markdown",
   "metadata": {},
   "source": [
    "## Packages and inputs"
   ]
  },
  {
   "cell_type": "markdown",
   "metadata": {},
   "source": [
    "**Packages used in this program. `ipywidgets` is not used in the script**"
   ]
  },
  {
   "cell_type": "code",
   "execution_count": 1,
   "metadata": {},
   "outputs": [],
   "source": [
    "import numpy as np\n",
    "import matplotlib.pyplot as plt\n",
    "from ipywidgets import interact\n",
    "%matplotlib inline"
   ]
  },
  {
   "cell_type": "markdown",
   "metadata": {},
   "source": [
    "**Input and output paths**"
   ]
  },
  {
   "cell_type": "code",
   "execution_count": 2,
   "metadata": {},
   "outputs": [],
   "source": [
    "# INPUTS\n",
    "year=\"2015\"\n",
    "month=\"1503\"\n",
    "pathg='S_N_FD/'           # Have to be specified        "
   ]
  },
  {
   "cell_type": "markdown",
   "metadata": {},
   "source": [
    "We define the year and month that we are studying. Next we define the path where the amplitude spectra files are located."
   ]
  },
  {
   "cell_type": "markdown",
   "metadata": {},
   "source": [
    "**Station parameters. The frecuency increment is calculated. The calibrated frequency list is defined**"
   ]
  },
  {
   "cell_type": "code",
   "execution_count": 3,
   "metadata": {},
   "outputs": [],
   "source": [
    "fm=256      # Sampling frequency\n",
    "bandcal=np.array([6,25],dtype=float)   # Calibrated frequency band\n",
    "nwindow=2**13\n",
    "nhour=fm*3600\n",
    "df=float(fm)/float(nwindow)\n",
    "fre=np.arange(bandcal[0],bandcal[1]+df,df)   # calibrated frequec\n",
    "nf=len(fre)"
   ]
  },
  {
   "cell_type": "markdown",
   "metadata": {},
   "source": [
    "**Anthropogenic noise and reference frequency bands**"
   ]
  },
  {
   "cell_type": "code",
   "execution_count": 4,
   "metadata": {},
   "outputs": [],
   "source": [
    "listafrecantro=np.array([[[14.55,15.35],[13.5,13.9]],\\\n",
    "                         [[16.50,16.90],[15.8,16.4]]])"
   ]
  },
  {
   "cell_type": "markdown",
   "metadata": {},
   "source": [
    "At this point, the frequency bands with anthropogenic noise are defined. For each one, we must also define a reference band that is free of anthropogenic noise and with similar features to that containing the noise.\n",
    "\n",
    "These bands are valid for all the months, although in specific cases the starting and ending points may vary. There are two types of antropoghenic noise: one that has been associated with the electric generator of the mountain hut near the station and another one that seems to be associated with the Central Europe railway network. The first noise sometimes presents two peaks with very close frequencies, so it is necessary to define a band that encompasses the two subbands."
   ]
  },
  {
   "cell_type": "markdown",
   "metadata": {},
   "source": [
    "**The positions of the limits of the anthropogenic noisy and reference frequency bands are located in the calibrated frequency list using the function `pofre`**"
   ]
  },
  {
   "cell_type": "code",
   "execution_count": 5,
   "metadata": {},
   "outputs": [],
   "source": [
    "def pofre(f,df,fi):\n",
    "    return int(round((f-fi)/df))"
   ]
  },
  {
   "cell_type": "markdown",
   "metadata": {},
   "source": [
    "The function `pofre(f,df,fi)` determines the position of a frequency `f` in a list of frequencies with a starting frequency, `fi`, and a frequency increment `df`."
   ]
  },
  {
   "cell_type": "code",
   "execution_count": 6,
   "metadata": {},
   "outputs": [],
   "source": [
    "positions=np.array([pofre(f,df,bandcal[0])\\\n",
    "                   for f in listafrecantro.ravel()],dtype=int)\n",
    "antropos=(positions.reshape(listafrecantro.shape))[:,0]\n",
    "refepos=(positions.reshape(listafrecantro.shape))[:,1]"
   ]
  },
  {
   "cell_type": "markdown",
   "metadata": {},
   "source": [
    "Using the `pofre` function, the positions of the frequency band limits (for the noise and reference bands) are located in the calibration frequency list."
   ]
  },
  {
   "cell_type": "markdown",
   "metadata": {},
   "source": [
    "**Reading spectra and the saturation percentage for each 10-min interval**"
   ]
  },
  {
   "cell_type": "code",
   "execution_count": 7,
   "metadata": {},
   "outputs": [],
   "source": [
    "pathmonth=pathg+year+\"/\"+month+\"/\"+\"SR\"+month[0:4]+\"_\"\n",
    "\n",
    "fichmedia0=pathmonth+\"media\"+\"_0\"\n",
    "fichmedia1=pathmonth+\"media\"+\"_1\"\n",
    "\n",
    "fichsatper0=pathmonth+\"satper\"+\"_0\"\n",
    "fichsatper1=pathmonth+\"satper\"+\"_1\"                               \n",
    "                               \n",
    "medidas0=np.genfromtxt(fichmedia0).reshape(-1,nf)\n",
    "medidas1=np.genfromtxt(fichmedia1).reshape(-1,nf)\n",
    "satper0=np.genfromtxt(fichsatper0)\n",
    "satper1=np.genfromtxt(fichsatper1)\n",
    "nintervm=len(medidas0)"
   ]
  },
  {
   "cell_type": "markdown",
   "metadata": {},
   "source": [
    "We read the 10-min amplitude spectra.\n",
    "The saturation percentage file for each 10-min interval is also read, in order to avoid the division by zero in the case of saturated intervals. This is avoided by checking that the interval is not saturated, that is, the saturation percentage is strictly less than 1. The variables involved in saturation carry the infix `satper`.\n",
    "\n",
    "Since the data are recorded without splitting, they are partitioned using the `nf` variable that corresponds to the total number of frequencies stored in each 10-min interval."
   ]
  },
  {
   "cell_type": "markdown",
   "metadata": {},
   "source": [
    "**This function is used to plot the 10-min amplitude spectrum with the help of the package `interact`**"
   ]
  },
  {
   "cell_type": "code",
   "execution_count": 8,
   "metadata": {},
   "outputs": [],
   "source": [
    "def spectrumNoisy(indi):\n",
    "    plt.grid()\n",
    "    plt.xlabel('Frequency (Hz)')\n",
    "    plt.ylabel(r'Amplitude pT/$\\sqrt{Hz}$')\n",
    "    plt.title('Amplitude spectrum')\n",
    "    plt.plot(fre,medidas0[indi,:],c='b',label='N-S sensor')\n",
    "    plt.plot(fre,medidas1[indi,:],c='r',label='E-W sensor')\n",
    "    plt.legend(loc=1)\n",
    "    plt.show()"
   ]
  },
  {
   "cell_type": "code",
   "execution_count": 9,
   "metadata": {},
   "outputs": [
    {
     "data": {
      "application/vnd.jupyter.widget-view+json": {
       "model_id": "2f6957d6181045faaeca6e991d7b5721",
       "version_major": 2,
       "version_minor": 0
      },
      "text/plain": [
       "interactive(children=(IntSlider(value=71, description='indi', max=143), Output()), _dom_classes=('widget-inter…"
      ]
     },
     "metadata": {},
     "output_type": "display_data"
    },
    {
     "data": {
      "text/plain": [
       "<function __main__.spectrumNoisy(indi)>"
      ]
     },
     "execution_count": 9,
     "metadata": {},
     "output_type": "execute_result"
    }
   ],
   "source": [
    "interact(spectrumNoisy,indi=(0,nintervm-1))"
   ]
  },
  {
   "cell_type": "markdown",
   "metadata": {},
   "source": [
    "With the function `interact` from ipywidgets package and the `spectrumNoisy` function, we can display the spectrum, for both sensors and for each 10-min interval of the month that we are analyzing."
   ]
  },
  {
   "cell_type": "markdown",
   "metadata": {},
   "source": [
    "**The positions of the limits of the anthropogenic noisy and reference frequency bands are located in the calibrated frequency list using the function `pofre`**"
   ]
  },
  {
   "cell_type": "code",
   "execution_count": 10,
   "metadata": {},
   "outputs": [],
   "source": [
    "positions=np.array([pofre(f,df,bandcal[0])\\\n",
    "                   for f in listafrecantro.ravel()],dtype=int)\n",
    "antropos=(positions.reshape(listafrecantro.shape))[:,0]\n",
    "refepos=(positions.reshape(listafrecantro.shape))[:,1]"
   ]
  },
  {
   "cell_type": "markdown",
   "metadata": {},
   "source": [
    "Using the `pofre` function, the positions in the calibration band corresponding to the boundary frequencies that appear for both the noise and reference bands are located."
   ]
  },
  {
   "cell_type": "markdown",
   "metadata": {},
   "source": [
    "## Filtering functions"
   ]
  },
  {
   "cell_type": "markdown",
   "metadata": {},
   "source": [
    "**The function `recta` fits a stright line to the values defined by the  array `val` corresponding to the frequencies in the array `freq`.**"
   ]
  },
  {
   "cell_type": "code",
   "execution_count": 11,
   "metadata": {},
   "outputs": [],
   "source": [
    "def recta(val,frec):\n",
    "    a=(val[-1]-val[0])/(frec[-1]-frec[0])\n",
    "    b=val[0]\n",
    "    valmod=a*(frec-frec[0])+b\n",
    "    de=np.max((val-valmod)/valmod)+np.min((val-valmod)/valmod)\n",
    "    return valmod, de"
   ]
  },
  {
   "cell_type": "markdown",
   "metadata": {},
   "source": [
    "Given a set of amplitude spectrum values, `val`, and its frequency set `frec`, the function `recta` calculates:\n",
    "- The parameters (slope and intercept) of the line defined by the first and last values in `val` and `frec` and with these parameters calculates the value of the stright line corresponding to each frequency in `frec`. \n",
    "- The relative difference (with respect to the value of the line) between the points of the line and the values for each frequency; the maximum and minimum values of these relative differences are found and added up to give a value that we name the filter trigger value.\n"
   ]
  },
  {
   "cell_type": "markdown",
   "metadata": {},
   "source": [
    "**The function `antro` corrects the anthropogenic noise in each 10-min  spectrum. The spectra of each interval of 10-min are in the array `medidasantro`. The frequencies of each spectrum are in the array `fre`. The reference and anthropogenic bands have their limits defined in `refpos` and `antropos`. The value `facfil` defines the filter application threshold.**"
   ]
  },
  {
   "cell_type": "code",
   "execution_count": 12,
   "metadata": {},
   "outputs": [],
   "source": [
    "def antro(medidasantro,fre,refpos,antropos,satper,facfil):\n",
    "    medidas=np.copy(medidasantro)\n",
    "    for i in range(len(medidas)):\n",
    "        if satper[i]<0.9999:\n",
    "            for j in range(len(antropos)):\n",
    "                desvia = recta(medidas[i,refpos[j,0]:refpos[j,1]+1],\\\n",
    "                               fre[refpos[j,0]:refpos[j,1]+1])[1]\n",
    "                resul = recta(medidas[i,antropos[j,0]:antropos[j,1]+1],\\\n",
    "                              fre[antropos[j,0]:antropos[j,1]+1])\n",
    "                if(resul[1]>facfil*np.abs(desvia)):\n",
    "                    medidas[i,antropos[j,0]:antropos[j,1]+1]=resul[0]\n",
    "        else:\n",
    "            print(\"Saturated interval \",i)  \n",
    "    return medidas"
   ]
  },
  {
   "cell_type": "markdown",
   "metadata": {},
   "source": [
    "**The anthropogenic noise filtering is applied to the whole month and to both sensors**"
   ]
  },
  {
   "cell_type": "code",
   "execution_count": 13,
   "metadata": {},
   "outputs": [],
   "source": [
    "medcor0 = antro(medidas0,fre,refepos,antropos,satper0,2.5)\n",
    "medcor1 = antro(medidas1,fre,refepos,antropos,satper1,2.5)"
   ]
  },
  {
   "cell_type": "markdown",
   "metadata": {},
   "source": [
    "The `antro` function performs the noise correction for the entire month. It starts with a loop that goes through all the 10-minute intervals in the month, `{i, 1, Length [medidas]}`. This is followed by another loop for the entire list of bands with possible anthropogenic noise and reference bands, `{j, 1, Length [anthropos]}`. For each interval and each band the following sentences are executed:\n",
    "* For the reference band, the reference band trigger value is determined with the function `recta`, and it is stored in `desvia`. Therefore, a single value is used from the output of the `recta` function.\n",
    "* For the anthropogenic band, the function `recta` gives the following output: the line values and the noise band trigger value.\n",
    "* The filter operates on the condition that the noise band trigger value is greater than the reference band trigger value multiplied by a factor (this factor is defined by the last argument of the `antro` function). If the filter is trigged, the recorded measurements are modified with the straight line. \n",
    "* Finally, the filtered values of the measurements are saved to a file.\n"
   ]
  },
  {
   "cell_type": "markdown",
   "metadata": {},
   "source": [
    "## Filtering review"
   ]
  },
  {
   "cell_type": "markdown",
   "metadata": {},
   "source": [
    "**This function is used to draw the filtered spectrum of each 10-min interval with the help of the `interact` package.**"
   ]
  },
  {
   "cell_type": "code",
   "execution_count": 14,
   "metadata": {},
   "outputs": [],
   "source": [
    "def spectrumDeNoisy(indi):\n",
    "    plt.grid()\n",
    "    plt.xlabel('Frequency (Hz)')\n",
    "    plt.ylabel(r'Amplitude pT/$\\sqrt{Hz}$')\n",
    "    plt.title('Amplitude spectrum')\n",
    "    plt.plot(fre,medcor0[indi,:],c='b',label='N-S sensor')\n",
    "    plt.plot(fre,medcor1[indi,:],c='r',label='E-W sensor')\n",
    "    plt.legend(loc=1)\n",
    "    plt.show()"
   ]
  },
  {
   "cell_type": "code",
   "execution_count": 15,
   "metadata": {},
   "outputs": [
    {
     "data": {
      "application/vnd.jupyter.widget-view+json": {
       "model_id": "9b156d61d645449fb8a4466371a0b6af",
       "version_major": 2,
       "version_minor": 0
      },
      "text/plain": [
       "interactive(children=(IntSlider(value=71, description='indi', max=143), Output()), _dom_classes=('widget-inter…"
      ]
     },
     "metadata": {},
     "output_type": "display_data"
    },
    {
     "data": {
      "text/plain": [
       "<function __main__.spectrumDeNoisy(indi)>"
      ]
     },
     "execution_count": 15,
     "metadata": {},
     "output_type": "execute_result"
    }
   ],
   "source": [
    "interact(spectrumDeNoisy,indi=(0,nintervm-1))"
   ]
  },
  {
   "cell_type": "markdown",
   "metadata": {},
   "source": [
    "## Output"
   ]
  },
  {
   "cell_type": "markdown",
   "metadata": {},
   "source": [
    "The names of the output files are defined with the new infix `mediaNA`."
   ]
  },
  {
   "cell_type": "markdown",
   "metadata": {},
   "source": [
    "**The filtered amplitude spectra is written in the output files.**"
   ]
  },
  {
   "cell_type": "code",
   "execution_count": 16,
   "metadata": {},
   "outputs": [],
   "source": [
    "fichsal0=open(pathmonth+\"mediaNA\"+\"_0\",mode='w')\n",
    "fichsal1=open(pathmonth+\"mediaNA\"+\"_1\",mode='w')\n",
    "\n",
    "for i in range(nintervm):\n",
    "    print(*medcor0[i],sep='\\n',file=fichsal0)\n",
    "    print(*medcor1[i],sep='\\n',file=fichsal1)\n",
    "\n",
    "fichsal0.close()\n",
    "fichsal1.close()"
   ]
  },
  {
   "cell_type": "code",
   "execution_count": null,
   "metadata": {},
   "outputs": [],
   "source": []
  }
 ],
 "metadata": {
  "kernelspec": {
   "display_name": "Python 3",
   "language": "python",
   "name": "python3"
  },
  "language_info": {
   "codemirror_mode": {
    "name": "ipython",
    "version": 3
   },
   "file_extension": ".py",
   "mimetype": "text/x-python",
   "name": "python",
   "nbconvert_exporter": "python",
   "pygments_lexer": "ipython3",
   "version": "3.8.5"
  }
 },
 "nbformat": 4,
 "nbformat_minor": 2
}
