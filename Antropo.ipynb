{
 "cells": [
  {
   "cell_type": "markdown",
   "metadata": {},
   "source": [
    "V:2021/10/08"
   ]
  },
  {
   "cell_type": "code",
   "execution_count": 1,
   "metadata": {},
   "outputs": [],
   "source": [
    "import numpy as np\n",
    "import matplotlib.pyplot as plt\n",
    "from ipywidgets import interact\n",
    "%matplotlib inline"
   ]
  },
  {
   "cell_type": "code",
   "execution_count": 2,
   "metadata": {},
   "outputs": [],
   "source": [
    "year=\"2015\"\n",
    "month=\"1503\"\n",
    "pathg='S_N_DF/'           # Have to be specified      "
   ]
  },
  {
   "cell_type": "code",
   "execution_count": 4,
   "metadata": {},
   "outputs": [],
   "source": [
    "divi=6\n",
    "nwindow=2**13\n",
    "fm=256\n",
    "nintervd=divi*24\n",
    "df=float(fm)/float(nwindow)\n",
    "bandcal=np.array([6,25],dtype=float)\n",
    "nhour=fm*3600\n",
    "fre=np.arange(bandcal[0],bandcal[1]+df,df)   # calibrated frequec\n",
    "nf=len(fre)\n",
    "def pofre(f,df,fi):\n",
    "    return int(round((f-fi)/df))"
   ]
  },
  {
   "cell_type": "code",
   "execution_count": 5,
   "metadata": {},
   "outputs": [],
   "source": [
    "pathmonth=pathg+year+\"/\"+month+\"/\"+\"SR\"+month[0:4]+\"_\"\n",
    "\n",
    "fichmedia0=pathmonth+\"media\"+\"_0\"\n",
    "fichmedia1=pathmonth+\"media\"+\"_1\"\n",
    "\n",
    "fichsatper0=pathmonth+\"satper\"+\"_0\"\n",
    "fichsatper1=pathmonth+\"satper\"+\"_1\"                               \n",
    "                               \n",
    "medidas0=np.genfromtxt(fichmedia0).reshape(-1,nf)\n",
    "medidas1=np.genfromtxt(fichmedia1).reshape(-1,nf)\n",
    "satper0=np.genfromtxt(fichsatper0)\n",
    "satper1=np.genfromtxt(fichsatper1)\n",
    "nintervm=len(medidas0)\n",
    "nhours=nintervm//divi\n",
    "ndays=nhours//24"
   ]
  },
  {
   "cell_type": "code",
   "execution_count": 6,
   "metadata": {},
   "outputs": [],
   "source": [
    "def spectrumNoisy(i,nho,ndi):\n",
    "    indi=i+nho*6+ndi*24\n",
    "    plt.grid()\n",
    "    plt.xlabel('Frequency (Hz)')\n",
    "    plt.ylabel(r'Amplitude pT/$\\sqrt{Hz}$')\n",
    "    plt.title('Amplitude spectrum')\n",
    "    plt.plot(fre,medidas0[indi,:],c='b',label='N-S sensor')\n",
    "    plt.plot(fre,medidas1[indi,:],c='r',label='E-W sensor')\n",
    "    plt.legend(loc=1)\n",
    "    plt.show()"
   ]
  },
  {
   "cell_type": "code",
   "execution_count": 7,
   "metadata": {},
   "outputs": [
    {
     "data": {
      "application/vnd.jupyter.widget-view+json": {
       "model_id": "0f203758f95b43f2a836b5fe92518dfd",
       "version_major": 2,
       "version_minor": 0
      },
      "text/plain": [
       "interactive(children=(IntSlider(value=2, description='i', max=5), IntSlider(value=11, description='nho', max=2…"
      ]
     },
     "metadata": {},
     "output_type": "display_data"
    },
    {
     "data": {
      "text/plain": [
       "<function __main__.spectrumNoisy(i, nho, ndi)>"
      ]
     },
     "execution_count": 7,
     "metadata": {},
     "output_type": "execute_result"
    }
   ],
   "source": [
    "interact(spectrumNoisy,i=(0,6-1),nho=(0,23),ndi=(0,ndays-1))"
   ]
  },
  {
   "cell_type": "code",
   "execution_count": 8,
   "metadata": {},
   "outputs": [],
   "source": [
    "def recta(val,frec):\n",
    "    a=(val[-1]-val[0])/(frec[-1]-frec[0])\n",
    "    b=val[0]\n",
    "    valmod=a*(frec-frec[0])+b\n",
    "    de=np.max((val-valmod)/valmod)+np.min((val-valmod)/valmod)\n",
    "    pmax=np.where(val==np.max(val))[0][0]\n",
    "    return valmod, de, [frec[pmax],val[pmax],valmod[pmax]]\n",
    "\n",
    "def antro(medidasantro,fre,refpos,antropos,satper,facfil):\n",
    "    antrolis=[]\n",
    "    medidas=np.copy(medidasantro)\n",
    "    for i in range(len(medidas)):\n",
    "        if satper[i]<0.9999:\n",
    "            cont=0\n",
    "            for j in range(len(antropos)):\n",
    "                desvia = recta(medidas[i,refpos[j,0]:refpos[j,1]+1],\\\n",
    "                               fre[refpos[j,0]:refpos[j,1]+1])[1]\n",
    "                resul = recta(medidas[i,antropos[j,0]:antropos[j,1]+1],\\\n",
    "                              fre[antropos[j,0]:antropos[j,1]+1])\n",
    "                if(resul[1]>facfil*np.abs(desvia)):\n",
    "                    cont=cont+1\n",
    "                    medidas[i,antropos[j,0]:antropos[j,1]+1]=resul[0]\n",
    "                    antrolis.append([i,*resul[2]])\n",
    "                if(cont==2 and j==1):\n",
    "                    resul = recta(medidas[i,antropos[0,0]:antropos[1,1]+1],\\\n",
    "                                  fre[antropos[0,0]:antropos[1,1]+1])\n",
    "                    medidas[i,antropos[0,0]:antropos[1,1]+1]=resul[0]\n",
    "        else:\n",
    "            print(\"Saturated interval \",i)  \n",
    "    return medidas, antrolis"
   ]
  },
  {
   "cell_type": "code",
   "execution_count": 9,
   "metadata": {},
   "outputs": [],
   "source": [
    "listafrecantro=np.array([[[14.55,14.90],[14.1,14.5]],\\\n",
    "                         [[14.90,15.35],[15.5,15.8]],\\\n",
    "                         [[16.50,16.90],[15.8,16.4]]])\n",
    "positions=np.array([pofre(f,df,bandcal[0])\\\n",
    "                   for f in listafrecantro.ravel()],dtype=int)\n",
    "antropos=(positions.reshape(listafrecantro.shape))[:,0]\n",
    "refepos=(positions.reshape(listafrecantro.shape))[:,1]"
   ]
  },
  {
   "cell_type": "code",
   "execution_count": 10,
   "metadata": {},
   "outputs": [],
   "source": [
    "medcor0,antrolis0 = antro(medidas0,fre,refepos,antropos,satper0,2.5)\n",
    "medcor1,antrolis1 = antro(medidas1,fre,refepos,antropos,satper1,2.5)\n",
    "varsal=1"
   ]
  },
  {
   "cell_type": "code",
   "execution_count": 11,
   "metadata": {},
   "outputs": [],
   "source": [
    "def spectrumDeNoisy(i,nho,ndi):\n",
    "    indi=i+nho*6+ndi*24\n",
    "    plt.grid()\n",
    "    plt.xlabel('Frequency (Hz)')\n",
    "    plt.ylabel(r'Amplitude pT/$\\sqrt{Hz}$')\n",
    "    plt.title('Amplitude spectrum')\n",
    "    plt.plot(fre,medcor0[indi,:],c='b',label='N-S sensor')\n",
    "    plt.plot(fre,medcor1[indi,:],c='r',label='E-W sensor')\n",
    "    plt.legend(loc=1)\n",
    "    plt.show()"
   ]
  },
  {
   "cell_type": "code",
   "execution_count": 12,
   "metadata": {},
   "outputs": [
    {
     "data": {
      "application/vnd.jupyter.widget-view+json": {
       "model_id": "93a46c6c49af4b099788884616ee3b94",
       "version_major": 2,
       "version_minor": 0
      },
      "text/plain": [
       "interactive(children=(IntSlider(value=2, description='i', max=5), IntSlider(value=11, description='nho', max=2…"
      ]
     },
     "metadata": {},
     "output_type": "display_data"
    },
    {
     "data": {
      "text/plain": [
       "<function __main__.spectrumDeNoisy(i, nho, ndi)>"
      ]
     },
     "execution_count": 12,
     "metadata": {},
     "output_type": "execute_result"
    }
   ],
   "source": [
    "interact(spectrumDeNoisy,i=(0,6-1),nho=(0,23),ndi=(0,ndays-1))"
   ]
  },
  {
   "cell_type": "code",
   "execution_count": 13,
   "metadata": {},
   "outputs": [],
   "source": [
    "listafrecantroRe=np.array([[[14.55,15.35],[13.5,13.9]]])\n",
    "positionsRe=np.array([pofre(f,df,bandcal[0])\\\n",
    "                   for f in listafrecantroRe.ravel()],dtype=int)\n",
    "antroposRe=(positionsRe.reshape(listafrecantroRe.shape))[:,0]\n",
    "refeposRe=(positionsRe.reshape(listafrecantroRe.shape))[:,1]"
   ]
  },
  {
   "cell_type": "code",
   "execution_count": 14,
   "metadata": {},
   "outputs": [],
   "source": [
    "medcor0Re,antrolis0Re = antro(medcor0,fre,refeposRe,antroposRe,satper0,2)\n",
    "medcor1Re,antrolis1Re = antro(medcor1,fre,refeposRe,antroposRe,satper1,2)\n",
    "varsal=2"
   ]
  },
  {
   "cell_type": "code",
   "execution_count": 15,
   "metadata": {},
   "outputs": [],
   "source": [
    "def spectrumDeNoisyAgain(i,nho,ndi):\n",
    "    indi=i+nho*6+ndi*24\n",
    "    plt.grid()\n",
    "    plt.xlabel('Frequency (Hz)')\n",
    "    plt.ylabel(r'Amplitude pT/$\\sqrt{Hz}$')\n",
    "    plt.title('Amplitude spectrum')\n",
    "    plt.plot(fre,medcor0Re[indi,:],c='b',label='N-S sensor')\n",
    "    plt.plot(fre,medcor1Re[indi,:],c='r',label='E-W sensor')\n",
    "    plt.legend(loc=1)\n",
    "    plt.show()"
   ]
  },
  {
   "cell_type": "code",
   "execution_count": 16,
   "metadata": {},
   "outputs": [
    {
     "data": {
      "application/vnd.jupyter.widget-view+json": {
       "model_id": "9cef66c6b4704571b0c5c8ada16b403e",
       "version_major": 2,
       "version_minor": 0
      },
      "text/plain": [
       "interactive(children=(IntSlider(value=2, description='i', max=5), IntSlider(value=11, description='nho', max=2…"
      ]
     },
     "metadata": {},
     "output_type": "display_data"
    },
    {
     "data": {
      "text/plain": [
       "<function __main__.spectrumDeNoisyAgain(i, nho, ndi)>"
      ]
     },
     "execution_count": 16,
     "metadata": {},
     "output_type": "execute_result"
    }
   ],
   "source": [
    "interact(spectrumDeNoisyAgain,i=(0,6-1),nho=(0,23),ndi=(0,ndays-1))"
   ]
  },
  {
   "cell_type": "markdown",
   "metadata": {},
   "source": [
    "## Outputs"
   ]
  },
  {
   "cell_type": "code",
   "execution_count": 17,
   "metadata": {},
   "outputs": [],
   "source": [
    "fichsal0=open(pathmonth+\"mediaNA\"+\"_0\",mode='w')\n",
    "fichsal1=open(pathmonth+\"mediaNA\"+\"_1\",mode='w')\n",
    "\n",
    "for i in range(nintervm):\n",
    "    if varsal==1:\n",
    "        print(*medcor0[i],sep='\\n',file=fichsal0)\n",
    "        print(*medcor1[i],sep='\\n',file=fichsal1)\n",
    "    elif varsal==2:\n",
    "        print(*medcor0Re[i],sep='\\n',file=fichsal0)\n",
    "        print(*medcor1Re[i],sep='\\n',file=fichsal1)\n",
    "    else:\n",
    "        print('Wrong output value')\n",
    "\n",
    "fichsal0.close()\n",
    "fichsal1.close()"
   ]
  },
  {
   "cell_type": "code",
   "execution_count": null,
   "metadata": {},
   "outputs": [],
   "source": []
  }
 ],
 "metadata": {
  "kernelspec": {
   "display_name": "Python 3",
   "language": "python",
   "name": "python3"
  },
  "language_info": {
   "codemirror_mode": {
    "name": "ipython",
    "version": 3
   },
   "file_extension": ".py",
   "mimetype": "text/x-python",
   "name": "python",
   "nbconvert_exporter": "python",
   "pygments_lexer": "ipython3",
   "version": "3.8.5"
  }
 },
 "nbformat": 4,
 "nbformat_minor": 2
}
